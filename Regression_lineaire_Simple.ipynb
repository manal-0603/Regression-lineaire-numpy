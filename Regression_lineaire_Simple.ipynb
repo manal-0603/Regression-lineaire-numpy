{
 "cells": [
  {
   "cell_type": "code",
   "execution_count": 106,
   "id": "ac7e45b5",
   "metadata": {},
   "outputs": [],
   "source": [
    "import numpy as np\n",
    "from sklearn.datasets import make_regression\n",
    "import matplotlib.pyplot as plt"
   ]
  },
  {
   "cell_type": "markdown",
   "id": "0031072b",
   "metadata": {},
   "source": [
    "# 1) Dataset\n",
    "Génération de données aléatoires avec une tendance linéaire avec make_regression: \n",
    "on a un dataset (x, y) qui contient 100 exemples, et une seule variable x. \n",
    "Note: chaque fois que la cellule est executée, des données différentes sont générer donc on utilise np.random.seed(0) pour reproduire le meme Dataset à chaque fois."
   ]
  },
  {
   "cell_type": "code",
   "execution_count": 107,
   "id": "8ba246ad",
   "metadata": {},
   "outputs": [
    {
     "data": {
      "text/plain": [
       "<matplotlib.collections.PathCollection at 0x22c7008ca60>"
      ]
     },
     "execution_count": 107,
     "metadata": {},
     "output_type": "execute_result"
    },
    {
     "data": {
      "image/png": "[encoded data removed]",
      "text/plain": [
       "<Figure size 432x288 with 1 Axes>"
      ]
     },
     "metadata": {
      "needs_background": "light"
     },
     "output_type": "display_data"
    }
   ],
   "source": [
    "np.random.seed(0) # pour toujours reproduire le meme dataset\n",
    "x, y = make_regression(n_samples=100, n_features=1, noise=10)\n",
    "plt.scatter(x, y) # afficher les résultats. X en abscisse et y en ordonnée"
   ]
  },
  {
   "cell_type": "markdown",
   "id": "e648c684",
   "metadata": {},
   "source": [
    "Pour effectuer un calcul matriciel correct, il est important de vérifier les dimensions de x et y. \n",
    "On remarque que y n'a pas les dimensions (100, 1). On corrige le probleme avec np.reshape"
   ]
  },
  {
   "cell_type": "code",
   "execution_count": 108,
   "id": "2eacf7e7",
   "metadata": {},
   "outputs": [
    {
     "name": "stdout",
     "output_type": "stream",
     "text": [
      "(100, 1)\n",
      "(100,)\n",
      "(100, 1)\n"
     ]
    }
   ],
   "source": [
    "print(x.shape)\n",
    "print(y.shape)\n",
    "\n",
    "# redimensionner y\n",
    "y = y.reshape(y.shape[0], 1)\n",
    "\n",
    "print(y.shape)"
   ]
  },
  {
   "cell_type": "markdown",
   "id": "c977b0fc",
   "metadata": {},
   "source": [
    "Création de la matrice X qui contient la colonne de Biais. Pour ca, on colle de façon horizontal le vecteur x et un vecteur 1 (généré avec np.ones) de dimension égale à celle de x"
   ]
  },
  {
   "cell_type": "code",
   "execution_count": 109,
   "id": "29860f9d",
   "metadata": {},
   "outputs": [
    {
     "name": "stdout",
     "output_type": "stream",
     "text": [
      "(100, 2)\n"
     ]
    }
   ],
   "source": [
    "# Ajout de la colonne de biais à x\n",
    "X = np.concatenate((x, np.ones(x.shape)),axis=1)\n",
    "print(X.shape)"
   ]
  },
  {
   "cell_type": "markdown",
   "id": "ac68ffbe",
   "metadata": {},
   "source": [
    "Finalement, création d'un vecteur parametre 𝜃 , initialisé avec des coefficients aléatoires. \n",
    "Ce vecteur est de dimension (2, 1). \n",
    "Si on désire toujours reproduire le meme vecteur  𝜃 , on utilise comme avant np.random.seed(0)."
   ]
  },
  {
   "cell_type": "code",
   "execution_count": 110,
   "id": "368c2c03",
   "metadata": {},
   "outputs": [
    {
     "data": {
      "text/plain": [
       "array([[1.76405235],\n",
       "       [0.40015721]])"
      ]
     },
     "execution_count": 110,
     "metadata": {},
     "output_type": "execute_result"
    }
   ],
   "source": [
    "np.random.seed(0) # pour produire toujours le meme vecteur theta aléatoire\n",
    "theta = np.random.randn(2, 1) # Création d'un vecteur paramètre theta\n",
    "theta"
   ]
  },
  {
   "cell_type": "markdown",
   "id": "d889b382",
   "metadata": {},
   "source": [
    "# 2) Modele Linéaire\n",
    "On implémente un modele $F = X.\\theta$, puis on teste le modele pour voir s'il n'y a pas d'erreur. En plus, cela permet de voir a quoi ressemble le modele initial, défini par la valeur de $\\theta$"
   ]
  },
  {
   "cell_type": "code",
   "execution_count": 111,
   "id": "8dc899b0",
   "metadata": {},
   "outputs": [],
   "source": [
    "def model(X,theta):\n",
    "    return X.dot(theta)"
   ]
  },
  {
   "cell_type": "code",
   "execution_count": 112,
   "id": "d7f243a4",
   "metadata": {},
   "outputs": [
    {
     "data": {
      "text/plain": [
       "[<matplotlib.lines.Line2D at 0x22c6fea4460>,\n",
       " <matplotlib.lines.Line2D at 0x22c6fea42e0>]"
      ]
     },
     "execution_count": 112,
     "metadata": {},
     "output_type": "execute_result"
    },
    {
     "data": {
      "image/png": "[encoded data removed]",
      "text/plain": [
       "<Figure size 432x288 with 1 Axes>"
      ]
     },
     "metadata": {
      "needs_background": "light"
     },
     "output_type": "display_data"
    }
   ],
   "source": [
    "plt.scatter(x,y)\n",
    "plt.plot(X,model(X,theta),c='r')"
   ]
  },
  {
   "cell_type": "markdown",
   "id": "0c006114",
   "metadata": {},
   "source": [
    "# 3. Fonction Cout :  Erreur Quadratique moyenne\n",
    "On mesure la performance de notre modele càd les erreurs du modele sur le Dataset X, y en implémentant la métrique **(MSE : 'Erreur quadratique moyenne')**\n",
    "\n",
    "$ J(\\theta) = \\frac{1}{2m} \\sum (X.\\theta - y)^2 $\n",
    "\n",
    "Ensuite, on teste notre fonction, pour voir s'il n'y a pas d'erreurs"
   ]
  },
  {
   "cell_type": "code",
   "execution_count": 113,
   "id": "749c74dc",
   "metadata": {},
   "outputs": [],
   "source": [
    "def cost_function(X,y,theta):\n",
    "    m = X.shape[0]\n",
    "    return 1/(2*m)*np.sum((model(X,theta)-y)**2)"
   ]
  },
  {
   "cell_type": "code",
   "execution_count": 114,
   "id": "518ea9fa",
   "metadata": {},
   "outputs": [
    {
     "data": {
      "text/plain": [
       "905.6306841935502"
      ]
     },
     "execution_count": 114,
     "metadata": {},
     "output_type": "execute_result"
    }
   ],
   "source": [
    "cost_function(X,y,theta)"
   ]
  },
  {
   "cell_type": "markdown",
   "id": "cecc2c0d",
   "metadata": {},
   "source": [
    "# 4. Gradients et Descente de Gradient\n",
    "On implémente la formule du gradient pour la **MSE**\n",
    "\n",
    "$\\frac{\\partial J(\\theta) }{\\partial \\theta} = \\frac{1}{m} X^T.(X.\\theta - y)$\n",
    "\n",
    "Ensuite on utilise cette fonction dans la descente de gradient:\n",
    "\n",
    "$\\theta = \\theta - \\alpha \\frac{\\partial J(\\theta) }{\\partial \\theta}$"
   ]
  },
  {
   "cell_type": "code",
   "execution_count": 115,
   "id": "b6759f74",
   "metadata": {},
   "outputs": [],
   "source": [
    "def grad(X,y,theta):\n",
    "    m = X.shape[0]\n",
    "    return 1/m * X.T.dot(model(X,theta)-y)"
   ]
  },
  {
   "cell_type": "code",
   "execution_count": 126,
   "id": "b482277f",
   "metadata": {},
   "outputs": [],
   "source": [
    "def gradient_descent(X,y,theta,learning_rate,n_iterations):\n",
    "    \n",
    "    cost_history = np.zeros(n_iterations) # création d'un tableau de stockage pour enregistrer l'évolution du Cout du modele\n",
    "    \n",
    "    for i in range(0,n_iterations):\n",
    "        theta = theta - learning_rate * grad(X, y, theta) # mise a jour du parametre theta (formule du gradient descent)\n",
    "        cost_history[i] = cost_function(X,y,theta) # on enregistre la valeur du Cout au tour i dans cost_history[i]\n",
    "        \n",
    "    return theta,cost_history"
   ]
  },
  {
   "cell_type": "markdown",
   "id": "a69db9bf",
   "metadata": {},
   "source": [
    "# 5. Phase d'entrainement\n",
    "Une fois les fonctions ci-dessus implémentées, il suffit d'utiliser la fonction gradient_descent en indiquant un nombre d'itérations ainsi qu'un learning rate, et la fonction retournera les paramètres du modèle après entrainement, sous forme de la variable theta_final.\n",
    "\n",
    "On peut ensuite visualiser notre modèle grace à Matplotlib pour observer les resultats par rapport à notre Dataset"
   ]
  },
  {
   "cell_type": "code",
   "execution_count": 130,
   "id": "9fabf75b",
   "metadata": {},
   "outputs": [],
   "source": [
    "n_iterations = 1000\n",
    "learning_rate = 0.01\n",
    "\n",
    "\n",
    "theta_final, cost_history = gradient_descent(X, y, theta, learning_rate, n_iterations)"
   ]
  },
  {
   "cell_type": "code",
   "execution_count": 128,
   "id": "9739051f",
   "metadata": {},
   "outputs": [
    {
     "name": "stdout",
     "output_type": "stream",
     "text": [
      "[[42.61765864]\n",
      " [-0.81309274]]\n"
     ]
    }
   ],
   "source": [
    "print(theta_final) # voici les parametres du modele une fois que la machine a été entrainée"
   ]
  },
  {
   "cell_type": "code",
   "execution_count": 129,
   "id": "dad87f14",
   "metadata": {},
   "outputs": [
    {
     "data": {
      "text/plain": [
       "57.08574516158981"
      ]
     },
     "execution_count": 129,
     "metadata": {},
     "output_type": "execute_result"
    },
    {
     "data": {
      "image/png": "[encoded data removed]",
      "text/plain": [
       "<Figure size 432x288 with 1 Axes>"
      ]
     },
     "metadata": {
      "needs_background": "light"
     },
     "output_type": "display_data"
    }
   ],
   "source": [
    "# création d'un vecteur prédictions qui contient les prédictions de notre modele final\n",
    "predictions = model(X, theta_final)\n",
    "\n",
    "# Affiche les résultats de prédictions (en rouge) par rapport à notre Dataset (en bleu)\n",
    "plt.scatter(x, y)\n",
    "plt.plot(x, predictions, c='r')\n",
    "cost_function(X,y,theta_final)"
   ]
  },
  {
   "cell_type": "markdown",
   "id": "0c43afcf",
   "metadata": {},
   "source": [
    "# 6) Courbe d'apprentissage\n",
    "Pour visualiser l'évaluation de la descente de gradient on peut créer un graphique qui trace la fonction cout en fonction du nombre d'itérations. Si notre descente de gradient a bien fonctionner, on doit obtenir une courbe qui diminue progressivement jusqu'à converger vers un certain minimum. Si on n'observe pas de stabilisation, alors cela signifie que le modele n'a pas terminé son apprentissage et qu'il faut soit augmenter le nombre d'itérations de la descente de gradien ou bien le pas (learning_rate)"
   ]
  },
  {
   "cell_type": "code",
   "execution_count": 133,
   "id": "8682b978",
   "metadata": {},
   "outputs": [
    {
     "data": {
      "text/plain": [
       "[<matplotlib.lines.Line2D at 0x22c6fe99580>]"
      ]
     },
     "execution_count": 133,
     "metadata": {},
     "output_type": "execute_result"
    },
    {
     "data": {
      "image/png": "[encoded data removed]",
      "text/plain": [
       "<Figure size 432x288 with 1 Axes>"
      ]
     },
     "metadata": {
      "needs_background": "light"
     },
     "output_type": "display_data"
    }
   ],
   "source": [
    "plt.plot(range(n_iterations),cost_history)"
   ]
  },
  {
   "cell_type": "markdown",
   "id": "80428f1c",
   "metadata": {},
   "source": [
    "# 7. Evaluation finale\n",
    "Pour évaluer la réelle performance de notre modele  on peut utiliser le **coefficient de détermination**, aussi connu sous le nom $R^2$. Il nous vient de la méthode des moindres carrés.\n",
    "\n",
    "Sa formule est la suivante : $R^2 = {\\frac{\\sum (y-f(x))^2}{\\sum (y- ȳ)^2} } $\n",
    "\n",
    "Plus ce coefficient est proche de 1 plus notre modele rentre bien dans notre nuage de points càd plus performant"
   ]
  },
  {
   "cell_type": "code",
   "execution_count": 135,
   "id": "7a1a8b1f",
   "metadata": {},
   "outputs": [],
   "source": [
    "def coef_determination(y, pred):\n",
    "    u = ((y - predictions)**2).sum()\n",
    "    v = ((y - y.mean())**2).sum()\n",
    "    return 1 - u/v"
   ]
  },
  {
   "cell_type": "code",
   "execution_count": 136,
   "id": "c7d3359b",
   "metadata": {},
   "outputs": [
    {
     "data": {
      "text/plain": [
       "0.9417294706504984"
      ]
     },
     "execution_count": 136,
     "metadata": {},
     "output_type": "execute_result"
    }
   ],
   "source": [
    "coef_determination(y, predictions)"
   ]
  }
 ],
 "metadata": {
  "kernelspec": {
   "display_name": "Python 3 (ipykernel)",
   "language": "python",
   "name": "python3"
  },
  "language_info": {
   "codemirror_mode": {
    "name": "ipython",
    "version": 3
   },
   "file_extension": ".py",
   "mimetype": "text/x-python",
   "name": "python",
   "nbconvert_exporter": "python",
   "pygments_lexer": "ipython3",
   "version": "3.9.7"
  }
 },
 "nbformat": 4,
 "nbformat_minor": 5
}
